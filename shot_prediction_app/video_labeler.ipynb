{
  "nbformat": 4,
  "nbformat_minor": 0,
  "metadata": {
    "colab": {
      "name": "video labeler.ipynb",
      "version": "0.3.2",
      "provenance": [],
      "collapsed_sections": [],
      "include_colab_link": true
    },
    "kernelspec": {
      "name": "python3",
      "display_name": "Python 3"
    }
  },
  "cells": [
    {
      "cell_type": "markdown",
      "metadata": {
        "id": "view-in-github",
        "colab_type": "text"
      },
      "source": [
        "<a href=\"https://colab.research.google.com/github/ZackAkil/optimising-basketball/blob/master/shot_prediction_app/video_labeler.ipynb\" target=\"_parent\"><img src=\"https://colab.research.google.com/assets/colab-badge.svg\" alt=\"Open In Colab\"/></a>"
      ]
    },
    {
      "cell_type": "code",
      "metadata": {
        "id": "yJHXM4b2HqNG",
        "colab_type": "code",
        "outputId": "77d9a913-bde6-408c-bd07-4f5a28e8b0ed",
        "colab": {
          "base_uri": "https://localhost:8080/",
          "height": 286
        }
      },
      "source": [
        "! wget https://github.com/ZackAkil/optimising-basketball/raw/master/deltas.mp4"
      ],
      "execution_count": 1,
      "outputs": [
        {
          "output_type": "stream",
          "text": [
            "--2019-09-03 12:36:47--  https://github.com/ZackAkil/optimising-basketball/raw/master/deltas.mp4\n",
            "Resolving github.com (github.com)... 192.30.255.112\n",
            "Connecting to github.com (github.com)|192.30.255.112|:443... connected.\n",
            "HTTP request sent, awaiting response... 302 Found\n",
            "Location: https://raw.githubusercontent.com/ZackAkil/optimising-basketball/master/deltas.mp4 [following]\n",
            "--2019-09-03 12:36:48--  https://raw.githubusercontent.com/ZackAkil/optimising-basketball/master/deltas.mp4\n",
            "Resolving raw.githubusercontent.com (raw.githubusercontent.com)... 151.101.0.133, 151.101.64.133, 151.101.128.133, ...\n",
            "Connecting to raw.githubusercontent.com (raw.githubusercontent.com)|151.101.0.133|:443... connected.\n",
            "HTTP request sent, awaiting response... 200 OK\n",
            "Length: 6325297 (6.0M) [application/octet-stream]\n",
            "Saving to: ‘deltas.mp4’\n",
            "\n",
            "deltas.mp4          100%[===================>]   6.03M  --.-KB/s    in 0.09s   \n",
            "\n",
            "2019-09-03 12:36:48 (69.2 MB/s) - ‘deltas.mp4’ saved [6325297/6325297]\n",
            "\n"
          ],
          "name": "stdout"
        }
      ]
    },
    {
      "cell_type": "code",
      "metadata": {
        "id": "DxtF-0uVbfRo",
        "colab_type": "code",
        "colab": {
          "base_uri": "https://localhost:8080/",
          "height": 34
        },
        "outputId": "8594a104-4a48-4709-d0ff-ce35cb21fa27"
      },
      "source": [
        "\n",
        "!pip install scikit-video --quiet"
      ],
      "execution_count": 2,
      "outputs": [
        {
          "output_type": "stream",
          "text": [
            "\u001b[K     |████████████████████████████████| 2.3MB 5.0MB/s \n",
            "\u001b[?25h"
          ],
          "name": "stdout"
        }
      ]
    },
    {
      "cell_type": "code",
      "metadata": {
        "id": "Ght4fQABWnuy",
        "colab_type": "code",
        "colab": {}
      },
      "source": [
        "from skvideo.io import vread"
      ],
      "execution_count": 0,
      "outputs": []
    },
    {
      "cell_type": "code",
      "metadata": {
        "id": "Lwgj6DySbcIT",
        "colab_type": "code",
        "outputId": "2dd37b8e-dca3-4b8e-efff-af1d41b21413",
        "colab": {
          "base_uri": "https://localhost:8080/",
          "height": 34
        }
      },
      "source": [
        "data = vread('deltas.mp4')\n",
        "data.shape"
      ],
      "execution_count": 4,
      "outputs": [
        {
          "output_type": "execute_result",
          "data": {
            "text/plain": [
              "(13225, 180, 320, 3)"
            ]
          },
          "metadata": {
            "tags": []
          },
          "execution_count": 4
        }
      ]
    },
    {
      "cell_type": "code",
      "metadata": {
        "id": "xFbK-3s4blU0",
        "colab_type": "code",
        "colab": {}
      },
      "source": [
        "import numpy as np\n",
        "import matplotlib.pyplot as plt"
      ],
      "execution_count": 0,
      "outputs": []
    },
    {
      "cell_type": "code",
      "metadata": {
        "id": "ezPBJf8obqhD",
        "colab_type": "code",
        "colab": {}
      },
      "source": [
        "flip_flop = False\n",
        "current_frame = 0\n",
        "\n",
        "target_x = []\n",
        "target_y = []\n",
        "\n",
        "def draw_frame(frame, x, y):\n",
        "  plt.imshow(frame)\n",
        "  plt.grid(False)\n",
        "  if is_a_shot:\n",
        "    plt.axvline(x, c='r')\n",
        "    plt.axhline(y, c='r')\n",
        "  plt.show()"
      ],
      "execution_count": 0,
      "outputs": []
    },
    {
      "cell_type": "code",
      "metadata": {
        "id": "BBjmrDMLbsZx",
        "colab_type": "code",
        "cellView": "form",
        "outputId": "30ef19b1-0eeb-4b4c-de2e-a7f22683a757",
        "colab": {
          "base_uri": "https://localhost:8080/",
          "height": 514
        }
      },
      "source": [
        "#@title Video shot labeler { run: \"auto\" }\n",
        "next_frame = True #@param {type:\"boolean\"}\n",
        "step = 67 #@param {type:\"slider\", min:1, max:100, step:1}\n",
        "is_a_shot = False #@param {type:\"boolean\"}\n",
        "\n",
        "x = 184 #@param {type:\"slider\", min:1, max:320, step:1}\n",
        "y = 108 #@param {type:\"slider\", min:1, max:180, step:1}\n",
        "\n",
        "if next_frame!=flip_flop:\n",
        "  print('new frame')\n",
        "  if is_a_shot:\n",
        "    for i in range(step):\n",
        "      target_x.append(x) \n",
        "      target_y.append(y)\n",
        "  else:\n",
        "    for i in range(step):\n",
        "      target_x.append(None) \n",
        "      target_y.append(None)\n",
        "  print('saved frame')\n",
        "  \n",
        "  flip_flop = next_frame  \n",
        "  current_frame += step\n",
        "  \n",
        "print('{}% done'.format(int((len(target_x) / len(data))*100)))\n",
        "\n",
        "draw_frame(data[current_frame], x, y)\n",
        "\n",
        "next_frame_index = current_frame + step\n",
        "\n",
        "if next_frame_index >= len(data):\n",
        "  print('at last frame')\n",
        "  next_frame_index = len(data)-1\n",
        "\n",
        "draw_frame(data[next_frame_index], x, y)"
      ],
      "execution_count": 41,
      "outputs": [
        {
          "output_type": "stream",
          "text": [
            "new frame\n",
            "saved frame\n",
            "2% done\n"
          ],
          "name": "stdout"
        },
        {
          "output_type": "display_data",
          "data": {
            "image/png": "[encoded data removed]",
            "text/plain": [
              "<Figure size 432x288 with 1 Axes>"
            ]
          },
          "metadata": {
            "tags": []
          }
        },
        {
          "output_type": "display_data",
          "data": {
            "image/png": "[encoded data removed]",
            "text/plain": [
              "<Figure size 432x288 with 1 Axes>"
            ]
          },
          "metadata": {
            "tags": []
          }
        }
      ]
    },
    {
      "cell_type": "code",
      "metadata": {
        "id": "guZd1MaEVr_4",
        "colab_type": "code",
        "outputId": "2ceb419e-d272-4926-b9ae-27215e6abc4e",
        "colab": {
          "base_uri": "https://localhost:8080/",
          "height": 34
        }
      },
      "source": [
        "len(target_x)"
      ],
      "execution_count": 0,
      "outputs": [
        {
          "output_type": "execute_result",
          "data": {
            "text/plain": [
              "13238"
            ]
          },
          "metadata": {
            "tags": []
          },
          "execution_count": 1509
        }
      ]
    },
    {
      "cell_type": "code",
      "metadata": {
        "id": "ZPYGYMSiXTxD",
        "colab_type": "code",
        "outputId": "4c5f1a36-4937-4f7a-d72f-6250b7e15eac",
        "colab": {
          "base_uri": "https://localhost:8080/",
          "height": 34
        }
      },
      "source": [
        "len(data)"
      ],
      "execution_count": 0,
      "outputs": [
        {
          "output_type": "execute_result",
          "data": {
            "text/plain": [
              "13225"
            ]
          },
          "metadata": {
            "tags": []
          },
          "execution_count": 461
        }
      ]
    },
    {
      "cell_type": "code",
      "metadata": {
        "id": "3ztZ-pvQXVln",
        "colab_type": "code",
        "colab": {}
      },
      "source": [
        "from sklearn.externals import joblib"
      ],
      "execution_count": 0,
      "outputs": []
    },
    {
      "cell_type": "code",
      "metadata": {
        "id": "2ifhxd9AYGGj",
        "colab_type": "code",
        "outputId": "883d93ad-6b37-4125-b97b-f7d2ba67ccc0",
        "colab": {
          "base_uri": "https://localhost:8080/",
          "height": 34
        }
      },
      "source": [
        "joblib.dump({'x':target_x,'y':target_y}, 'y.joblib')"
      ],
      "execution_count": 0,
      "outputs": [
        {
          "output_type": "execute_result",
          "data": {
            "text/plain": [
              "['y.joblib']"
            ]
          },
          "metadata": {
            "tags": []
          },
          "execution_count": 1514
        }
      ]
    },
    {
      "cell_type": "code",
      "metadata": {
        "id": "3e_uVeBdYQkT",
        "colab_type": "code",
        "outputId": "f6a286c6-ee67-45c9-c4ab-fa94039caa66",
        "colab": {
          "base_uri": "https://localhost:8080/",
          "height": 68
        }
      },
      "source": [
        "# save to google cloud storage\n",
        "# !gsutil cp y.joblib gs://rugby-videos/y.joblib"
      ],
      "execution_count": 0,
      "outputs": [
        {
          "output_type": "stream",
          "text": [
            "Copying file://y.joblib [Content-Type=application/octet-stream]...\n",
            "/ [1 files][ 28.4 KiB/ 28.4 KiB]                                                \n",
            "Operation completed over 1 objects/28.4 KiB.                                     \n"
          ],
          "name": "stdout"
        }
      ]
    }
  ]
}