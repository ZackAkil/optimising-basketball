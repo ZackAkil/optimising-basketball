{
  "nbformat": 4,
  "nbformat_minor": 0,
  "metadata": {
    "colab": {
      "name": "basket ball tracking shot prediction.ipynb",
      "version": "0.3.2",
      "provenance": [],
      "include_colab_link": true
    },
    "kernelspec": {
      "name": "python3",
      "display_name": "Python 3"
    }
  },
  "cells": [
    {
      "cell_type": "markdown",
      "metadata": {
        "id": "view-in-github",
        "colab_type": "text"
      },
      "source": [
        "<a href=\"https://colab.research.google.com/github/ZackAkil/optimising-basketball/blob/master/shot_prediction_app/basket_ball_tracking_shot_prediction.ipynb\" target=\"_parent\"><img src=\"https://colab.research.google.com/assets/colab-badge.svg\" alt=\"Open In Colab\"/></a>"
      ]
    },
    {
      "metadata": {
        "id": "UmSZDDJyHqJb",
        "colab_type": "code",
        "colab": {}
      },
      "cell_type": "code",
      "source": [
        "# Authenticate to GCS.\n",
        "from google.colab import auth\n",
        "auth.authenticate_user()"
      ],
      "execution_count": 0,
      "outputs": []
    },
    {
      "metadata": {
        "id": "0gqPU8nHIDCO",
        "colab_type": "code",
        "outputId": "75a7e753-10bd-41f0-9d6d-7be37ba97a90",
        "colab": {
          "base_uri": "https://localhost:8080/",
          "height": 69
        }
      },
      "cell_type": "code",
      "source": [
        "!gsutil cp gs://rugby-videos/VID_20181215_095232.mp4 ."
      ],
      "execution_count": 0,
      "outputs": [
        {
          "output_type": "stream",
          "text": [
            "Copying gs://rugby-videos/VID_20181215_095232.mp4...\n",
            "| [1 files][639.5 MiB/639.5 MiB]                                                \n",
            "Operation completed over 1 objects/639.5 MiB.                                    \n"
          ],
          "name": "stdout"
        }
      ]
    },
    {
      "metadata": {
        "id": "_Y1O1ca_Khn6",
        "colab_type": "code",
        "colab": {}
      },
      "cell_type": "code",
      "source": [
        "!apt-get -qq install -qq ffmpeg -qq"
      ],
      "execution_count": 0,
      "outputs": []
    },
    {
      "metadata": {
        "id": "ycePbmjRKrUl",
        "colab_type": "code",
        "colab": {}
      },
      "cell_type": "code",
      "source": [
        "!ffmpeg -ss 00:00:00.000 -i VID_20181215_095232.mp4 -t 00:0:30.000 -c copy out.mp4"
      ],
      "execution_count": 0,
      "outputs": []
    },
    {
      "metadata": {
        "id": "rSe7OxRnRn5k",
        "colab_type": "code",
        "colab": {}
      },
      "cell_type": "code",
      "source": [
        "!ffmpeg -i out.mp4 -vf scale=320:-1 output_320.mp4"
      ],
      "execution_count": 0,
      "outputs": []
    },
    {
      "metadata": {
        "id": "6Y89klH8MF1y",
        "colab_type": "code",
        "outputId": "c1b3e48c-fb42-4a11-a66c-bc774d7add82",
        "colab": {
          "base_uri": "https://localhost:8080/",
          "height": 242
        }
      },
      "cell_type": "code",
      "source": [
        "!ls -l * "
      ],
      "execution_count": 0,
      "outputs": [
        {
          "output_type": "stream",
          "text": [
            "-rw-r--r-- 1 root root      2561 Dec 24 17:37 adc.json\n",
            "-rw-r--r-- 1 root root  45539538 Dec 24 17:38 out.mp4\n",
            "-rw-r--r-- 1 root root    731897 Dec 24 17:38 output_320.mp4\n",
            "-rw-r--r-- 1 root root 670583688 Dec 24 17:37 VID_20181215_095232.mp4\n",
            "\n",
            "sample_data:\n",
            "total 55504\n",
            "-r-xr-xr-x 1 root root     1697 Jan  1  2000 anscombe.json\n",
            "-rw-r--r-- 1 root root   301141 Dec 18 20:29 california_housing_test.csv\n",
            "-rw-r--r-- 1 root root  1706430 Dec 18 20:29 california_housing_train.csv\n",
            "-rw-r--r-- 1 root root 18289443 Dec 18 20:29 mnist_test.csv\n",
            "-rw-r--r-- 1 root root 36523880 Dec 18 20:29 mnist_train_small.csv\n",
            "-r-xr-xr-x 1 root root      903 Jan  1  2000 README.md\n"
          ],
          "name": "stdout"
        }
      ]
    },
    {
      "metadata": {
        "id": "QEfyqjjpIY68",
        "colab_type": "code",
        "colab": {}
      },
      "cell_type": "code",
      "source": [
        "!pip install scikit-video --quiet"
      ],
      "execution_count": 0,
      "outputs": []
    },
    {
      "metadata": {
        "id": "19ureXLkIuXn",
        "colab_type": "code",
        "colab": {}
      },
      "cell_type": "code",
      "source": [
        "from skvideo.io import vread\n",
        "import skvideo"
      ],
      "execution_count": 0,
      "outputs": []
    },
    {
      "metadata": {
        "id": "ZSmd8piBI0s2",
        "colab_type": "code",
        "outputId": "3a2ef528-4ea4-40cb-85b0-234701ed6f7d",
        "colab": {
          "base_uri": "https://localhost:8080/",
          "height": 35
        }
      },
      "cell_type": "code",
      "source": [
        "data = vread('output_320.mp4')\n",
        "data.shape"
      ],
      "execution_count": 0,
      "outputs": [
        {
          "output_type": "execute_result",
          "data": {
            "text/plain": [
              "(901, 180, 320, 3)"
            ]
          },
          "metadata": {
            "tags": []
          },
          "execution_count": 93
        }
      ]
    },
    {
      "metadata": {
        "id": "mhBK656IJs35",
        "colab_type": "code",
        "colab": {}
      },
      "cell_type": "code",
      "source": [
        "import numpy as np\n",
        "import matplotlib.pyplot as plt"
      ],
      "execution_count": 0,
      "outputs": []
    },
    {
      "metadata": {
        "id": "IjBCwAfyJfA-",
        "colab_type": "code",
        "colab": {}
      },
      "cell_type": "code",
      "source": [
        "def draw_trail(video_data):\n",
        "  \n",
        "#   video_data = video_data_in[:,:,:,1]\n",
        "  \n",
        "#   print(video_data.shape)\n",
        "  \n",
        "  frames, height, width = video_data.shape\n",
        "\n",
        "  trail_frame = np.zeros([height, width])\n",
        "\n",
        "  for i in range( len(video_data)-1 ):\n",
        "\n",
        "    base_frame = video_data[i].astype(np.int32)\n",
        "    next_frame = video_data[i+1].astype(np.int32)\n",
        "\n",
        "    delta = abs(base_frame - next_frame)\n",
        "    \n",
        "    change_mask = delta > 20\n",
        "    \n",
        "    trail_frame[change_mask] += 100\n",
        "\n",
        "  trail_frame = np.clip(trail_frame, 0, 255).astype(np.uint8)\n",
        "#   plt.figure(dpi=150)\n",
        "#   plt.grid(False)\n",
        "#   plt.imshow(trail_frame)\n",
        "  return trail_frame"
      ],
      "execution_count": 0,
      "outputs": []
    },
    {
      "metadata": {
        "id": "T1-s9TQ9Jr7C",
        "colab_type": "code",
        "outputId": "a039b393-35ed-4103-9fb8-74611af8a3df",
        "colab": {
          "base_uri": "https://localhost:8080/",
          "height": 320
        }
      },
      "cell_type": "code",
      "source": [
        "plt.imshow(draw_trail(data[:,:,:,0]))"
      ],
      "execution_count": 0,
      "outputs": [
        {
          "output_type": "execute_result",
          "data": {
            "text/plain": [
              "<matplotlib.image.AxesImage at 0x7fb8e1ee9da0>"
            ]
          },
          "metadata": {
            "tags": []
          },
          "execution_count": 118
        },
        {
          "output_type": "display_data",
          "data": {
            "image/png": "[encoded data removed]",
            "text/plain": [
              "<matplotlib.figure.Figure at 0x7fb8e1eb1470>"
            ]
          },
          "metadata": {
            "tags": []
          }
        }
      ]
    },
    {
      "metadata": {
        "id": "IBzrx_yWTNMe",
        "colab_type": "code",
        "outputId": "3d516f34-3234-4d98-8fe7-bfb9f154122e",
        "colab": {
          "base_uri": "https://localhost:8080/",
          "height": 35
        }
      },
      "cell_type": "code",
      "source": [
        "data.shape"
      ],
      "execution_count": 0,
      "outputs": [
        {
          "output_type": "execute_result",
          "data": {
            "text/plain": [
              "(901, 180, 320, 3)"
            ]
          },
          "metadata": {
            "tags": []
          },
          "execution_count": 99
        }
      ]
    },
    {
      "metadata": {
        "id": "fjGETQvOYt5b",
        "colab_type": "code",
        "outputId": "0a346e1f-c829-4f19-d153-d2408610ea9d",
        "colab": {
          "base_uri": "https://localhost:8080/",
          "height": 35
        }
      },
      "cell_type": "code",
      "source": [
        "900/30"
      ],
      "execution_count": 0,
      "outputs": [
        {
          "output_type": "execute_result",
          "data": {
            "text/plain": [
              "30.0"
            ]
          },
          "metadata": {
            "tags": []
          },
          "execution_count": 100
        }
      ]
    },
    {
      "metadata": {
        "id": "h6dkZLypW4Wq",
        "colab_type": "code",
        "colab": {}
      },
      "cell_type": "code",
      "source": [
        "window = 75\n",
        "deltas = np.zeros([len(data)-window, data.shape[1], data.shape[2]])\n",
        "\n",
        "for i in range(len(data)-window):\n",
        "#   print(i, i+30)\n",
        "  next_frame = draw_trail(data[i:i+window,:,:,0])\n",
        "#   plt.imshow(next_frame)\n",
        "  deltas[i] = next_frame"
      ],
      "execution_count": 0,
      "outputs": []
    },
    {
      "metadata": {
        "id": "RwmhyvqabCZe",
        "colab_type": "code",
        "outputId": "85bfd3e7-42dd-4a9a-ef63-f5fb9b7af3f7",
        "colab": {
          "base_uri": "https://localhost:8080/",
          "height": 35
        }
      },
      "cell_type": "code",
      "source": [
        "deltas.shape"
      ],
      "execution_count": 0,
      "outputs": [
        {
          "output_type": "execute_result",
          "data": {
            "text/plain": [
              "(901, 180, 320)"
            ]
          },
          "metadata": {
            "tags": []
          },
          "execution_count": 90
        }
      ]
    },
    {
      "metadata": {
        "id": "qxSGUnXFdAcL",
        "colab_type": "code",
        "colab": {}
      },
      "cell_type": "code",
      "source": [
        "skvideo.io.vwrite('test.mp4', deltas)"
      ],
      "execution_count": 0,
      "outputs": []
    },
    {
      "metadata": {
        "id": "SjsITrVddIOK",
        "colab_type": "code",
        "outputId": "456a01fa-5eac-4e36-9067-fe98581dcac7",
        "colab": {
          "base_uri": "https://localhost:8080/",
          "height": 320
        }
      },
      "cell_type": "code",
      "source": [
        "plt.imshow(deltas[10])\n"
      ],
      "execution_count": 0,
      "outputs": [
        {
          "output_type": "execute_result",
          "data": {
            "text/plain": [
              "<matplotlib.image.AxesImage at 0x7fb8df66ccc0>"
            ]
          },
          "metadata": {
            "tags": []
          },
          "execution_count": 95
        },
        {
          "output_type": "display_data",
          "data": {
            "image/png": "[encoded data removed]",
            "text/plain": [
              "<matplotlib.figure.Figure at 0x7fb8dfd8a320>"
            ]
          },
          "metadata": {
            "tags": []
          }
        }
      ]
    },
    {
      "metadata": {
        "id": "B6_2lEi1dnmR",
        "colab_type": "code",
        "colab": {}
      },
      "cell_type": "code",
      "source": [
        ""
      ],
      "execution_count": 0,
      "outputs": []
    }
  ]
}