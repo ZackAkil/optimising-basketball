{
  "nbformat": 4,
  "nbformat_minor": 0,
  "metadata": {
    "colab": {
      "name": "video labeler.ipynb",
      "version": "0.3.2",
      "provenance": [],
      "collapsed_sections": [],
      "include_colab_link": true
    },
    "kernelspec": {
      "name": "python3",
      "display_name": "Python 3"
    }
  },
  "cells": [
    {
      "cell_type": "markdown",
      "metadata": {
        "id": "view-in-github",
        "colab_type": "text"
      },
      "source": [
        "<a href=\"https://colab.research.google.com/github/ZackAkil/optimising-basketball/blob/master/shot%20prediction/video_labeler.ipynb\" target=\"_parent\"><img src=\"https://colab.research.google.com/assets/colab-badge.svg\" alt=\"Open In Colab\"/></a>"
      ]
    },
    {
      "metadata": {
        "id": "sgElT9l8Weri",
        "colab_type": "code",
        "colab": {}
      },
      "cell_type": "code",
      "source": [
        "# Authenticate to GCS.\n",
        "from google.colab import auth\n",
        "auth.authenticate_user()"
      ],
      "execution_count": 0,
      "outputs": []
    },
    {
      "metadata": {
        "id": "FESTN-j1bSvG",
        "colab_type": "code",
        "colab": {
          "base_uri": "https://localhost:8080/",
          "height": 85
        },
        "outputId": "84884e15-3c7d-4a5e-ae11-06285b2e2900"
      },
      "cell_type": "code",
      "source": [
        "!gsutil ls gs://rugby-videos"
      ],
      "execution_count": 2,
      "outputs": [
        {
          "output_type": "stream",
          "text": [
            "gs://rugby-videos/VID_20181215_095232.mp4\n",
            "gs://rugby-videos/deltas.joblib\n",
            "gs://rugby-videos/deltas.mp4\n",
            "gs://rugby-videos/output_320_full.mp4\n"
          ],
          "name": "stdout"
        }
      ]
    },
    {
      "metadata": {
        "id": "JFjy4SWTWkof",
        "colab_type": "code",
        "colab": {
          "base_uri": "https://localhost:8080/",
          "height": 68
        },
        "outputId": "b4744e60-902c-44a6-8b02-6140ca18c001"
      },
      "cell_type": "code",
      "source": [
        "!gsutil cp gs://rugby-videos/deltas.mp4 ."
      ],
      "execution_count": 3,
      "outputs": [
        {
          "output_type": "stream",
          "text": [
            "Copying gs://rugby-videos/deltas.mp4...\n",
            "/ [1 files][  6.0 MiB/  6.0 MiB]                                                \n",
            "Operation completed over 1 objects/6.0 MiB.                                      \n"
          ],
          "name": "stdout"
        }
      ]
    },
    {
      "metadata": {
        "id": "DxtF-0uVbfRo",
        "colab_type": "code",
        "colab": {}
      },
      "cell_type": "code",
      "source": [
        "!pip install scikit-video --quiet"
      ],
      "execution_count": 0,
      "outputs": []
    },
    {
      "metadata": {
        "id": "Ght4fQABWnuy",
        "colab_type": "code",
        "colab": {}
      },
      "cell_type": "code",
      "source": [
        "from skvideo.io import vread"
      ],
      "execution_count": 0,
      "outputs": []
    },
    {
      "metadata": {
        "id": "Lwgj6DySbcIT",
        "colab_type": "code",
        "colab": {
          "base_uri": "https://localhost:8080/",
          "height": 34
        },
        "outputId": "f10d424b-7294-4880-bd1a-a3e4e751a0e5"
      },
      "cell_type": "code",
      "source": [
        "data = vread('deltas.mp4')\n",
        "data.shape"
      ],
      "execution_count": 6,
      "outputs": [
        {
          "output_type": "execute_result",
          "data": {
            "text/plain": [
              "(13225, 180, 320, 3)"
            ]
          },
          "metadata": {
            "tags": []
          },
          "execution_count": 6
        }
      ]
    },
    {
      "metadata": {
        "id": "xFbK-3s4blU0",
        "colab_type": "code",
        "colab": {}
      },
      "cell_type": "code",
      "source": [
        "import numpy as np\n",
        "import matplotlib.pyplot as plt"
      ],
      "execution_count": 0,
      "outputs": []
    },
    {
      "metadata": {
        "id": "ezPBJf8obqhD",
        "colab_type": "code",
        "colab": {}
      },
      "cell_type": "code",
      "source": [
        "flip_flop = False\n",
        "current_frame = 0\n",
        "\n",
        "target_x = []\n",
        "target_y = []\n",
        "\n",
        "def draw_frame(frame, x, y):\n",
        "  plt.imshow(frame)\n",
        "  plt.grid(False)\n",
        "  if is_a_shot:\n",
        "    plt.axvline(x, c='r')\n",
        "    plt.axhline(y, c='r')\n",
        "  plt.show()"
      ],
      "execution_count": 0,
      "outputs": []
    },
    {
      "metadata": {
        "id": "BBjmrDMLbsZx",
        "colab_type": "code",
        "colab": {
          "base_uri": "https://localhost:8080/",
          "height": 283
        },
        "cellView": "both",
        "outputId": "4f197174-6774-445f-d7fa-b0b699c5b74f"
      },
      "cell_type": "code",
      "source": [
        "#@title Default title text { run: \"auto\" }\n",
        "next_frame = True #@param {type:\"boolean\"}\n",
        "step = 100 #@param {type:\"slider\", min:1, max:100, step:1}\n",
        "is_a_shot = False #@param {type:\"boolean\"}\n",
        "\n",
        "x = 160 #@param {type:\"slider\", min:1, max:320, step:1}\n",
        "y = 113 #@param {type:\"slider\", min:1, max:180, step:1}\n",
        "\n",
        "if next_frame!=flip_flop:\n",
        "  print('new frame')\n",
        "  if is_a_shot:\n",
        "    for i in range(step):\n",
        "      target_x.append(x) \n",
        "      target_y.append(y)\n",
        "  else:\n",
        "    for i in range(step):\n",
        "      target_x.append(None) \n",
        "      target_y.append(None)\n",
        "  print('saved frame')\n",
        "  \n",
        "  flip_flop = next_frame  \n",
        "  current_frame += step\n",
        "  \n",
        "print('{}% done'.format(int((len(target_x) / len(data))*100)))\n",
        "\n",
        "draw_frame(data[current_frame], x, y)\n",
        "\n",
        "next_frame_index = current_frame + step\n",
        "\n",
        "if next_frame_index >= len(data):\n",
        "  print('at last frame')\n",
        "  next_frame_index = len(data)-1\n",
        "\n",
        "draw_frame(data[next_frame_index], x, y)"
      ],
      "execution_count": 1506,
      "outputs": [
        {
          "output_type": "stream",
          "text": [
            "new frame\n",
            "saved frame\n",
            "100% done\n"
          ],
          "name": "stdout"
        },
        {
          "output_type": "error",
          "ename": "IndexError",
          "evalue": "ignored",
          "traceback": [
            "\u001b[0;31m---------------------------------------------------------------------------\u001b[0m",
            "\u001b[0;31mIndexError\u001b[0m                                Traceback (most recent call last)",
            "\u001b[0;32m<ipython-input-1506-63d809499264>\u001b[0m in \u001b[0;36m<module>\u001b[0;34m()\u001b[0m\n\u001b[1;32m     23\u001b[0m \u001b[0mprint\u001b[0m\u001b[0;34m(\u001b[0m\u001b[0;34m'{}% done'\u001b[0m\u001b[0;34m.\u001b[0m\u001b[0mformat\u001b[0m\u001b[0;34m(\u001b[0m\u001b[0mint\u001b[0m\u001b[0;34m(\u001b[0m\u001b[0;34m(\u001b[0m\u001b[0mlen\u001b[0m\u001b[0;34m(\u001b[0m\u001b[0mtarget_x\u001b[0m\u001b[0;34m)\u001b[0m \u001b[0;34m/\u001b[0m \u001b[0mlen\u001b[0m\u001b[0;34m(\u001b[0m\u001b[0mdata\u001b[0m\u001b[0;34m)\u001b[0m\u001b[0;34m)\u001b[0m\u001b[0;34m*\u001b[0m\u001b[0;36m100\u001b[0m\u001b[0;34m)\u001b[0m\u001b[0;34m)\u001b[0m\u001b[0;34m)\u001b[0m\u001b[0;34m\u001b[0m\u001b[0;34m\u001b[0m\u001b[0m\n\u001b[1;32m     24\u001b[0m \u001b[0;34m\u001b[0m\u001b[0m\n\u001b[0;32m---> 25\u001b[0;31m \u001b[0mdraw_frame\u001b[0m\u001b[0;34m(\u001b[0m\u001b[0mdata\u001b[0m\u001b[0;34m[\u001b[0m\u001b[0mcurrent_frame\u001b[0m\u001b[0;34m]\u001b[0m\u001b[0;34m,\u001b[0m \u001b[0mx\u001b[0m\u001b[0;34m,\u001b[0m \u001b[0my\u001b[0m\u001b[0;34m)\u001b[0m\u001b[0;34m\u001b[0m\u001b[0;34m\u001b[0m\u001b[0m\n\u001b[0m\u001b[1;32m     26\u001b[0m \u001b[0;34m\u001b[0m\u001b[0m\n\u001b[1;32m     27\u001b[0m \u001b[0mnext_frame_index\u001b[0m \u001b[0;34m=\u001b[0m \u001b[0mcurrent_frame\u001b[0m \u001b[0;34m+\u001b[0m \u001b[0mstep\u001b[0m\u001b[0;34m\u001b[0m\u001b[0;34m\u001b[0m\u001b[0m\n",
            "\u001b[0;31mIndexError\u001b[0m: index 13238 is out of bounds for axis 0 with size 13225"
          ]
        }
      ]
    },
    {
      "metadata": {
        "id": "guZd1MaEVr_4",
        "colab_type": "code",
        "colab": {
          "base_uri": "https://localhost:8080/",
          "height": 34
        },
        "outputId": "2ceb419e-d272-4926-b9ae-27215e6abc4e"
      },
      "cell_type": "code",
      "source": [
        "len(target_x)"
      ],
      "execution_count": 1509,
      "outputs": [
        {
          "output_type": "execute_result",
          "data": {
            "text/plain": [
              "13238"
            ]
          },
          "metadata": {
            "tags": []
          },
          "execution_count": 1509
        }
      ]
    },
    {
      "metadata": {
        "id": "ZPYGYMSiXTxD",
        "colab_type": "code",
        "colab": {
          "base_uri": "https://localhost:8080/",
          "height": 34
        },
        "outputId": "4c5f1a36-4937-4f7a-d72f-6250b7e15eac"
      },
      "cell_type": "code",
      "source": [
        "len(data)"
      ],
      "execution_count": 461,
      "outputs": [
        {
          "output_type": "execute_result",
          "data": {
            "text/plain": [
              "13225"
            ]
          },
          "metadata": {
            "tags": []
          },
          "execution_count": 461
        }
      ]
    },
    {
      "metadata": {
        "id": "3ztZ-pvQXVln",
        "colab_type": "code",
        "colab": {}
      },
      "cell_type": "code",
      "source": [
        "from sklearn.externals import joblib"
      ],
      "execution_count": 0,
      "outputs": []
    },
    {
      "metadata": {
        "id": "2ifhxd9AYGGj",
        "colab_type": "code",
        "colab": {
          "base_uri": "https://localhost:8080/",
          "height": 34
        },
        "outputId": "883d93ad-6b37-4125-b97b-f7d2ba67ccc0"
      },
      "cell_type": "code",
      "source": [
        "joblib.dump({'x':target_x,'y':target_y}, 'y.joblib')"
      ],
      "execution_count": 1514,
      "outputs": [
        {
          "output_type": "execute_result",
          "data": {
            "text/plain": [
              "['y.joblib']"
            ]
          },
          "metadata": {
            "tags": []
          },
          "execution_count": 1514
        }
      ]
    },
    {
      "metadata": {
        "id": "3e_uVeBdYQkT",
        "colab_type": "code",
        "colab": {
          "base_uri": "https://localhost:8080/",
          "height": 68
        },
        "outputId": "f6a286c6-ee67-45c9-c4ab-fa94039caa66"
      },
      "cell_type": "code",
      "source": [
        "!gsutil cp y.joblib gs://rugby-videos/y.joblib"
      ],
      "execution_count": 1508,
      "outputs": [
        {
          "output_type": "stream",
          "text": [
            "Copying file://y.joblib [Content-Type=application/octet-stream]...\n",
            "/ [1 files][ 28.4 KiB/ 28.4 KiB]                                                \n",
            "Operation completed over 1 objects/28.4 KiB.                                     \n"
          ],
          "name": "stdout"
        }
      ]
    },
    {
      "metadata": {
        "id": "UaQS05r2aH8x",
        "colab_type": "code",
        "colab": {
          "base_uri": "https://localhost:8080/",
          "height": 34
        },
        "outputId": "aff3852f-1257-4238-c157-6e550c294099"
      },
      "cell_type": "code",
      "source": [
        "[1,2,3,4,5][:4]"
      ],
      "execution_count": 1512,
      "outputs": [
        {
          "output_type": "execute_result",
          "data": {
            "text/plain": [
              "[1, 2, 3, 4]"
            ]
          },
          "metadata": {
            "tags": []
          },
          "execution_count": 1512
        }
      ]
    },
    {
      "metadata": {
        "id": "4guGcIaqreCf",
        "colab_type": "code",
        "colab": {}
      },
      "cell_type": "code",
      "source": [
        ""
      ],
      "execution_count": 0,
      "outputs": []
    }
  ]
}